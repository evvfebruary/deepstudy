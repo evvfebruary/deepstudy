{
 "cells": [
  {
   "cell_type": "code",
   "execution_count": 1,
   "metadata": {
    "collapsed": true,
    "ExecuteTime": {
     "end_time": "2023-07-19T13:46:20.063743Z",
     "start_time": "2023-07-19T13:46:20.046656Z"
    }
   },
   "outputs": [
    {
     "data": {
      "text/plain": "'Don’t check whether it is-a duck: check whether it quacks-like-a duck, walks-like-a duck, etc., etc., depending on exactly what subset of duck-like behavior you need to play your language-games with. (comp.lang.python, Jul. 26, 2000)'"
     },
     "execution_count": 1,
     "metadata": {},
     "output_type": "execute_result"
    }
   ],
   "source": [
    "# Few words about duck typing\n",
    "\"Don’t check whether it is-a duck: check whether it quacks-like-a duck, walks-like-a duck, etc., etc., depending on exactly what subset of duck-like behavior you need to play your language-games with. (comp.lang.python, Jul. 26, 2000)\""
   ]
  },
  {
   "cell_type": "code",
   "execution_count": 2,
   "outputs": [],
   "source": [
    "import reprlib"
   ],
   "metadata": {
    "collapsed": false,
    "ExecuteTime": {
     "end_time": "2023-07-19T13:52:04.860462Z",
     "start_time": "2023-07-19T13:52:04.857387Z"
    }
   }
  },
  {
   "cell_type": "code",
   "execution_count": 4,
   "outputs": [
    {
     "data": {
      "text/plain": "'[0, 1, 2, 3, 4, 5, ...]'"
     },
     "execution_count": 4,
     "metadata": {},
     "output_type": "execute_result"
    }
   ],
   "source": [
    "reprlib.repr([i for i in range(1000)])"
   ],
   "metadata": {
    "collapsed": false,
    "ExecuteTime": {
     "end_time": "2023-07-19T13:52:21.493985Z",
     "start_time": "2023-07-19T13:52:21.490386Z"
    }
   }
  },
  {
   "cell_type": "code",
   "execution_count": 5,
   "outputs": [],
   "source": [
    "l = [1,2,3,4,5,6,7,8,9,10]"
   ],
   "metadata": {
    "collapsed": false,
    "ExecuteTime": {
     "end_time": "2023-07-19T14:01:57.341171Z",
     "start_time": "2023-07-19T14:01:57.338048Z"
    }
   }
  },
  {
   "cell_type": "code",
   "execution_count": 9,
   "outputs": [
    {
     "data": {
      "text/plain": "[1, 3, 5, 7, 9]"
     },
     "execution_count": 9,
     "metadata": {},
     "output_type": "execute_result"
    }
   ],
   "source": [
    "l[slice(0, 20, 2)]"
   ],
   "metadata": {
    "collapsed": false,
    "ExecuteTime": {
     "end_time": "2023-07-19T14:07:40.223975Z",
     "start_time": "2023-07-19T14:07:40.221075Z"
    }
   }
  },
  {
   "cell_type": "code",
   "execution_count": 21,
   "outputs": [
    {
     "data": {
      "text/plain": "(0, 10, 2)"
     },
     "execution_count": 21,
     "metadata": {},
     "output_type": "execute_result"
    }
   ],
   "source": [
    "slice(0, 20, 2).indices(10)"
   ],
   "metadata": {
    "collapsed": false,
    "ExecuteTime": {
     "end_time": "2023-07-19T14:10:19.936206Z",
     "start_time": "2023-07-19T14:10:19.932649Z"
    }
   }
  },
  {
   "cell_type": "code",
   "execution_count": 15,
   "outputs": [
    {
     "data": {
      "text/plain": "True"
     },
     "execution_count": 15,
     "metadata": {},
     "output_type": "execute_result"
    }
   ],
   "source": [
    "slice_after_indices = slice(*slice(0, 20, 2).indices(len(l)))\n",
    "l[slice_after_indices] == l[slice(0, 20, 2)]"
   ],
   "metadata": {
    "collapsed": false,
    "ExecuteTime": {
     "end_time": "2023-07-19T14:08:41.754102Z",
     "start_time": "2023-07-19T14:08:41.749996Z"
    }
   }
  },
  {
   "cell_type": "code",
   "execution_count": 26,
   "outputs": [],
   "source": [
    "class OmitEveryVariables:\n",
    "\n",
    "    def __getattr__(self, item):\n",
    "        print(f\"ARE YOU LOOKING FOR {item}\")"
   ],
   "metadata": {
    "collapsed": false,
    "ExecuteTime": {
     "end_time": "2023-07-19T14:21:55.332948Z",
     "start_time": "2023-07-19T14:21:55.330144Z"
    }
   }
  },
  {
   "cell_type": "code",
   "execution_count": 27,
   "outputs": [],
   "source": [
    "om = OmitEveryVariables()"
   ],
   "metadata": {
    "collapsed": false,
    "ExecuteTime": {
     "end_time": "2023-07-19T14:21:55.716294Z",
     "start_time": "2023-07-19T14:21:55.714013Z"
    }
   }
  },
  {
   "cell_type": "code",
   "execution_count": 29,
   "outputs": [
    {
     "name": "stdout",
     "output_type": "stream",
     "text": [
      "ARE YOU LOOKING FOR gsg\n"
     ]
    }
   ],
   "source": [
    "om.gsg"
   ],
   "metadata": {
    "collapsed": false,
    "ExecuteTime": {
     "end_time": "2023-07-19T14:21:58.101417Z",
     "start_time": "2023-07-19T14:21:58.099121Z"
    }
   }
  },
  {
   "cell_type": "code",
   "execution_count": 30,
   "outputs": [
    {
     "data": {
      "text/plain": "{}"
     },
     "execution_count": 30,
     "metadata": {},
     "output_type": "execute_result"
    }
   ],
   "source": [
    "om.__dict__"
   ],
   "metadata": {
    "collapsed": false,
    "ExecuteTime": {
     "end_time": "2023-07-19T14:24:18.572650Z",
     "start_time": "2023-07-19T14:24:18.563018Z"
    }
   }
  },
  {
   "cell_type": "code",
   "execution_count": 31,
   "outputs": [],
   "source": [
    "om.s = 1"
   ],
   "metadata": {
    "collapsed": false,
    "ExecuteTime": {
     "end_time": "2023-07-19T14:24:22.952873Z",
     "start_time": "2023-07-19T14:24:22.947050Z"
    }
   }
  },
  {
   "cell_type": "code",
   "execution_count": 32,
   "outputs": [
    {
     "data": {
      "text/plain": "{'s': 1}"
     },
     "execution_count": 32,
     "metadata": {},
     "output_type": "execute_result"
    }
   ],
   "source": [
    "om.__dict__"
   ],
   "metadata": {
    "collapsed": false,
    "ExecuteTime": {
     "end_time": "2023-07-19T14:24:26.024738Z",
     "start_time": "2023-07-19T14:24:26.016144Z"
    }
   }
  },
  {
   "cell_type": "code",
   "execution_count": 41,
   "outputs": [
    {
     "data": {
      "text/plain": "6"
     },
     "execution_count": 41,
     "metadata": {},
     "output_type": "execute_result"
    }
   ],
   "source": [
    "import functools\n",
    "import operator\n",
    "functools.reduce(operator.add, [1,2,3], -1)"
   ],
   "metadata": {
    "collapsed": false,
    "ExecuteTime": {
     "end_time": "2023-07-19T14:58:19.548576Z",
     "start_time": "2023-07-19T14:58:19.544973Z"
    }
   }
  },
  {
   "cell_type": "code",
   "execution_count": null,
   "outputs": [],
   "source": [
    "\"When implementing a class that emulates any built-in type, it is important that the emulation only be implemented to the degree that it makes sense for the object being modeled. For example, some sequences may work well with retrieval of individual elements, but extracting a slice may not make sense.\""
   ],
   "metadata": {
    "collapsed": false
   }
  },
  {
   "cell_type": "code",
   "execution_count": 51,
   "outputs": [],
   "source": [
    "anki_cards = [\n",
    "    {\"question\": \"What library you can use to cut the visual represnation in __repr__ method for example?\",\n",
    "     \"answer\": \"reprlib.repr(\"},\n",
    "    {\"question\": \"Which metod you should implement to support slicing?\", \"answer\": \"_ _ getitem _ _ \"},\n",
    "    {\"question\": \"What getItem recieved as a item argument when you use:\\n [1], [2:3], [1:3:4, 9]\",\n",
    "     \"answer\": \"1, slice(2,3,None), (slice(1,3,4), 9)\"},\n",
    "    {\"question\": \"What you will see as a result of executing this code?\\n slice(0, 20, 2).indices(10)\",\n",
    "     \"answer\": \"(0,10,2)\"},\n",
    "    {\"question\": \"What method normalize your slice indexes?\", \"answer\": \".indices() with len(sequence) as a arg\"},\n",
    "    {\"question\": \"When __getattr__ method executed?\", \"answer\": \"When lookup for a instance variables fails!\"},\n",
    "    {\"question\": \"What a result of execution of this code? \\n functools.reduce(operator.add, [1,2,3], -1)\",\n",
    "     \"answer\": \"5\"},\n",
    "    {\"question\": \"How you set attribute in __setattr__ method?\", \"answer\": \"super().__setattr__(name, value_)\"},\n",
    "    {\"question\": \"What method your should implement to be sequence (informal, ducktyping )?\",\n",
    "     \"answer\": \"_ _ len _ _, _ _ getitem _ _ \"},\n",
    "    {\"question\": \"What 2 methods you should implement in Hashable object?\",\n",
    "     \"answer\": \"_ _ hash _ _, _ _ eq _ _\"}\n",
    "]"
   ],
   "metadata": {
    "collapsed": false,
    "ExecuteTime": {
     "end_time": "2023-07-19T15:50:29.555853Z",
     "start_time": "2023-07-19T15:50:29.552403Z"
    }
   }
  },
  {
   "cell_type": "code",
   "execution_count": 54,
   "outputs": [],
   "source": [
    "from config import FLUENT_PYTHON_BOOK\n",
    "from anki.generator import generate_anki_cards\n",
    "from anki.formatter import save_cards,combine_anki_cards_csv\n",
    "from anki.config import SYNTH_ANKI_CARDS_SAVEPATH, MANUAL_ANKI_CARDS_SAVEPATH\n",
    "\n",
    "# Generate anki cards\n",
    "anki_cards_synth = generate_anki_cards(filepath=FLUENT_PYTHON_BOOK, start_page=426, end_page=461)\n",
    "save_cards(anki_cards_synth, SYNTH_ANKI_CARDS_SAVEPATH)\n",
    "save_cards(anki_cards, MANUAL_ANKI_CARDS_SAVEPATH)\n",
    "combine_anki_cards_csv([MANUAL_ANKI_CARDS_SAVEPATH, SYNTH_ANKI_CARDS_SAVEPATH])"
   ],
   "metadata": {
    "collapsed": false,
    "ExecuteTime": {
     "end_time": "2023-07-19T15:50:56.236069Z",
     "start_time": "2023-07-19T15:50:56.224661Z"
    }
   }
  }
 ],
 "metadata": {
  "kernelspec": {
   "display_name": "Python 3",
   "language": "python",
   "name": "python3"
  },
  "language_info": {
   "codemirror_mode": {
    "name": "ipython",
    "version": 2
   },
   "file_extension": ".py",
   "mimetype": "text/x-python",
   "name": "python",
   "nbconvert_exporter": "python",
   "pygments_lexer": "ipython2",
   "version": "2.7.6"
  }
 },
 "nbformat": 4,
 "nbformat_minor": 0
}
