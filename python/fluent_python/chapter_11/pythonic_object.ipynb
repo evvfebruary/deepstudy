{
 "cells": [
  {
   "cell_type": "code",
   "execution_count": 45,
   "metadata": {
    "collapsed": true,
    "ExecuteTime": {
     "end_time": "2023-07-18T13:36:27.227801Z",
     "start_time": "2023-07-18T13:36:27.221764Z"
    }
   },
   "outputs": [],
   "source": [
    "anki_cards = [{\"question\": 'How you can create new instance using cls variable?',\"answer\": 'cls(*args)'},\n",
    "              {\"question\": 'What method usign when you call format(2, \"b\")?',\"answer\": '__format__'},\n",
    "              {\"question\": 'How make variable private?', \"answer\":\"add two underscore in front - _ _ x\"},\n",
    "              {\"question\": 'What @property decorator do?',\"answer\": 'Create getter from function!'},\n",
    "              {\"question\": 'How you can using user class in patter matching properly? Which attribute your should set?',\"answer\": '__match_args = (\"args of init\")'},\n",
    "              {\"question\": 'How you can create new instance using cls variable?',\"answer\": 'cls(*args)'},\n",
    "              {\"question\": \"Best way to change class attributes?\", \"answer\": \"Inherit and change it in subclasses\"},\n",
    "              {\"question\": \"What if you try to change instance attribute which use the same name as class attributes?\",\n",
    "               'answer': \"Only instance variable changed successfully\"},\n",
    "              {\"question\":\"What a caveats in using __sloats__?\",\n",
    "               \"answer\":\n",
    "                   \"1) Subclasses will still have a __dict__ by default, and all additional instance variables will be kept in __dict__. \\n 2. Intance cannot be targets of weakref. \\n 3. Instance will only be able to have the attributes listed in __slots__\"},\n",
    "              {\"question\": \"When you should use slots?\", \"answer\": \"When you try to save yout memory ( you are using tuple instead of dynamic dict, it will be nice optimization if you wanna keep a million of objects for example.\"}]"
   ]
  },
  {
   "cell_type": "code",
   "execution_count": 9,
   "outputs": [
    {
     "data": {
      "text/plain": "(<function int.__format__(format_spec, /)>,\n <function float.__format__(format_spec, /)>)"
     },
     "execution_count": 9,
     "metadata": {},
     "output_type": "execute_result"
    }
   ],
   "source": [
    "# Almost all implicit Pythonic object have __format__ method\n",
    "getattr(2, '__format__'), getattr(2.1, '__format__')"
   ],
   "metadata": {
    "collapsed": false,
    "ExecuteTime": {
     "end_time": "2023-07-18T13:03:26.631430Z",
     "start_time": "2023-07-18T13:03:26.625255Z"
    }
   }
  },
  {
   "cell_type": "code",
   "execution_count": 10,
   "outputs": [
    {
     "name": "stdout",
     "output_type": "stream",
     "text": [
      "10 10 10\n"
     ]
    }
   ],
   "source": [
    "# Differenr approach to using format\n",
    "print(format(2, 'b'),\n",
    "      f\"{2:b}\",\n",
    "      \"{number:b}\".format(number=2))"
   ],
   "metadata": {
    "collapsed": false,
    "ExecuteTime": {
     "end_time": "2023-07-18T13:03:26.864064Z",
     "start_time": "2023-07-18T13:03:26.859484Z"
    }
   }
  },
  {
   "cell_type": "code",
   "execution_count": 11,
   "outputs": [],
   "source": [
    "# Testing self implemented __format__ method"
   ],
   "metadata": {
    "collapsed": false,
    "ExecuteTime": {
     "end_time": "2023-07-18T13:03:27.417553Z",
     "start_time": "2023-07-18T13:03:27.413249Z"
    }
   }
  },
  {
   "cell_type": "code",
   "execution_count": 12,
   "outputs": [],
   "source": [
    "from python.fluent_python.chapter_11.vector2d_v1 import Vector2d\n",
    "\n",
    "example = Vector2d(1.0, 1.0)"
   ],
   "metadata": {
    "collapsed": false,
    "ExecuteTime": {
     "end_time": "2023-07-18T13:03:27.737103Z",
     "start_time": "2023-07-18T13:03:27.731517Z"
    }
   }
  },
  {
   "cell_type": "code",
   "execution_count": 13,
   "outputs": [
    {
     "name": "stdout",
     "output_type": "stream",
     "text": [
      "<1.414214e+00, 7.853982e-01>\n"
     ]
    }
   ],
   "source": [
    "print(f\"{example:2ep}\")"
   ],
   "metadata": {
    "collapsed": false,
    "ExecuteTime": {
     "end_time": "2023-07-18T13:03:28.664958Z",
     "start_time": "2023-07-18T13:03:28.662125Z"
    }
   }
  },
  {
   "cell_type": "code",
   "execution_count": 14,
   "outputs": [],
   "source": [
    "# Check hash and setter"
   ],
   "metadata": {
    "collapsed": false,
    "ExecuteTime": {
     "end_time": "2023-07-18T13:03:29.019714Z",
     "start_time": "2023-07-18T13:03:29.016084Z"
    }
   }
  },
  {
   "cell_type": "code",
   "execution_count": 15,
   "outputs": [
    {
     "ename": "AttributeError",
     "evalue": "property 'x' of 'Vector2d' object has no setter",
     "output_type": "error",
     "traceback": [
      "\u001B[0;31m---------------------------------------------------------------------------\u001B[0m",
      "\u001B[0;31mAttributeError\u001B[0m                            Traceback (most recent call last)",
      "Cell \u001B[0;32mIn[15], line 1\u001B[0m\n\u001B[0;32m----> 1\u001B[0m \u001B[43mexample\u001B[49m\u001B[38;5;241;43m.\u001B[39;49m\u001B[43mx\u001B[49m \u001B[38;5;241m=\u001B[39m \u001B[38;5;241m8\u001B[39m\n",
      "\u001B[0;31mAttributeError\u001B[0m: property 'x' of 'Vector2d' object has no setter"
     ]
    }
   ],
   "source": [
    "example.x = 8"
   ],
   "metadata": {
    "collapsed": false,
    "ExecuteTime": {
     "end_time": "2023-07-18T13:03:29.325075Z",
     "start_time": "2023-07-18T13:03:29.302185Z"
    }
   }
  },
  {
   "cell_type": "code",
   "execution_count": 16,
   "outputs": [
    {
     "data": {
      "text/plain": "8389048192121911274"
     },
     "execution_count": 16,
     "metadata": {},
     "output_type": "execute_result"
    }
   ],
   "source": [
    "hash(example)"
   ],
   "metadata": {
    "collapsed": false,
    "ExecuteTime": {
     "end_time": "2023-07-18T13:03:34.360107Z",
     "start_time": "2023-07-18T13:03:34.355604Z"
    }
   }
  },
  {
   "cell_type": "code",
   "execution_count": 17,
   "outputs": [
    {
     "data": {
      "text/plain": "{'_Vector2d__x': 1.0, '_Vector2d__y': 1.0, 'c': 1.0}"
     },
     "execution_count": 17,
     "metadata": {},
     "output_type": "execute_result"
    }
   ],
   "source": [
    "example.__dict__"
   ],
   "metadata": {
    "collapsed": false,
    "ExecuteTime": {
     "end_time": "2023-07-18T13:03:42.700800Z",
     "start_time": "2023-07-18T13:03:42.696016Z"
    }
   }
  },
  {
   "cell_type": "code",
   "execution_count": 19,
   "outputs": [
    {
     "ename": "AttributeError",
     "evalue": "'Vector2d' object has no attribute '__x'",
     "output_type": "error",
     "traceback": [
      "\u001B[0;31m---------------------------------------------------------------------------\u001B[0m",
      "\u001B[0;31mAttributeError\u001B[0m                            Traceback (most recent call last)",
      "Cell \u001B[0;32mIn[19], line 1\u001B[0m\n\u001B[0;32m----> 1\u001B[0m \u001B[43mexample\u001B[49m\u001B[38;5;241;43m.\u001B[39;49m\u001B[43m__x\u001B[49m\n",
      "\u001B[0;31mAttributeError\u001B[0m: 'Vector2d' object has no attribute '__x'"
     ]
    }
   ],
   "source": [
    "example.__x"
   ],
   "metadata": {
    "collapsed": false,
    "ExecuteTime": {
     "end_time": "2023-07-18T13:03:56.080123Z",
     "start_time": "2023-07-18T13:03:56.076896Z"
    }
   }
  },
  {
   "cell_type": "code",
   "execution_count": null,
   "outputs": [],
   "source": [
    "# You can add\n",
    "match v:\n",
    "    case Vector2d(_, 0) # only works if __match_args__ exists"
   ],
   "metadata": {
    "collapsed": false
   }
  },
  {
   "cell_type": "code",
   "execution_count": 24,
   "outputs": [
    {
     "data": {
      "text/plain": "{'_Vector2d__x': 1.0, '_Vector2d__y': 1.0, 'c': 1.0}"
     },
     "execution_count": 24,
     "metadata": {},
     "output_type": "execute_result"
    }
   ],
   "source": [
    "example.__dict__"
   ],
   "metadata": {
    "collapsed": false,
    "ExecuteTime": {
     "end_time": "2023-07-18T13:05:57.850010Z",
     "start_time": "2023-07-18T13:05:57.844532Z"
    }
   }
  },
  {
   "cell_type": "code",
   "execution_count": 29,
   "outputs": [],
   "source": [
    "### Slots magic\n",
    "class Pixel:\n",
    "    __slots__ = ('r', 'g', 'b')\n",
    "\n",
    "class SubPixel(Pixel):\n",
    "    pass"
   ],
   "metadata": {
    "collapsed": false,
    "ExecuteTime": {
     "end_time": "2023-07-18T13:34:02.628199Z",
     "start_time": "2023-07-18T13:34:02.618800Z"
    }
   }
  },
  {
   "cell_type": "code",
   "execution_count": 30,
   "outputs": [],
   "source": [
    "px = Pixel()\n",
    "spx = SubPixel()"
   ],
   "metadata": {
    "collapsed": false,
    "ExecuteTime": {
     "end_time": "2023-07-18T13:34:07.349640Z",
     "start_time": "2023-07-18T13:34:07.344359Z"
    }
   }
  },
  {
   "cell_type": "code",
   "execution_count": 31,
   "outputs": [],
   "source": [
    "px.r = 1"
   ],
   "metadata": {
    "collapsed": false,
    "ExecuteTime": {
     "end_time": "2023-07-18T13:34:08.466358Z",
     "start_time": "2023-07-18T13:34:08.459029Z"
    }
   }
  },
  {
   "cell_type": "code",
   "execution_count": 36,
   "outputs": [
    {
     "ename": "AttributeError",
     "evalue": "'Pixel' object has no attribute 'f'",
     "output_type": "error",
     "traceback": [
      "\u001B[0;31m---------------------------------------------------------------------------\u001B[0m",
      "\u001B[0;31mAttributeError\u001B[0m                            Traceback (most recent call last)",
      "Cell \u001B[0;32mIn[36], line 1\u001B[0m\n\u001B[0;32m----> 1\u001B[0m \u001B[43mpx\u001B[49m\u001B[38;5;241;43m.\u001B[39;49m\u001B[43mf\u001B[49m \u001B[38;5;241m=\u001B[39m \u001B[38;5;241m1\u001B[39m\n",
      "\u001B[0;31mAttributeError\u001B[0m: 'Pixel' object has no attribute 'f'"
     ]
    }
   ],
   "source": [
    "px.f = 1"
   ],
   "metadata": {
    "collapsed": false,
    "ExecuteTime": {
     "end_time": "2023-07-18T13:34:45.121128Z",
     "start_time": "2023-07-18T13:34:45.117879Z"
    }
   }
  },
  {
   "cell_type": "code",
   "execution_count": 42,
   "outputs": [
    {
     "data": {
      "text/plain": "('r', 'g', 'b')"
     },
     "execution_count": 42,
     "metadata": {},
     "output_type": "execute_result"
    }
   ],
   "source": [
    "px.__slots__"
   ],
   "metadata": {
    "collapsed": false,
    "ExecuteTime": {
     "end_time": "2023-07-18T13:35:05.885691Z",
     "start_time": "2023-07-18T13:35:05.881204Z"
    }
   }
  },
  {
   "cell_type": "code",
   "execution_count": 44,
   "outputs": [
    {
     "ename": "AttributeError",
     "evalue": "'Pixel' object has no attribute '__dict__'",
     "output_type": "error",
     "traceback": [
      "\u001B[0;31m---------------------------------------------------------------------------\u001B[0m",
      "\u001B[0;31mAttributeError\u001B[0m                            Traceback (most recent call last)",
      "Cell \u001B[0;32mIn[44], line 1\u001B[0m\n\u001B[0;32m----> 1\u001B[0m \u001B[43mpx\u001B[49m\u001B[38;5;241;43m.\u001B[39;49m\u001B[38;5;18;43m__dict__\u001B[39;49m\n",
      "\u001B[0;31mAttributeError\u001B[0m: 'Pixel' object has no attribute '__dict__'"
     ]
    }
   ],
   "source": [
    "px.__dict__"
   ],
   "metadata": {
    "collapsed": false,
    "ExecuteTime": {
     "end_time": "2023-07-18T13:35:10.397321Z",
     "start_time": "2023-07-18T13:35:10.391354Z"
    }
   }
  },
  {
   "cell_type": "code",
   "execution_count": 33,
   "outputs": [],
   "source": [
    "spx.r = 1"
   ],
   "metadata": {
    "collapsed": false,
    "ExecuteTime": {
     "end_time": "2023-07-18T13:34:15.863697Z",
     "start_time": "2023-07-18T13:34:15.859572Z"
    }
   }
  },
  {
   "cell_type": "code",
   "execution_count": 37,
   "outputs": [],
   "source": [
    "spx.f = 1"
   ],
   "metadata": {
    "collapsed": false,
    "ExecuteTime": {
     "end_time": "2023-07-18T13:34:49.093240Z",
     "start_time": "2023-07-18T13:34:49.090612Z"
    }
   }
  },
  {
   "cell_type": "code",
   "execution_count": 38,
   "outputs": [
    {
     "name": "stdout",
     "output_type": "stream",
     "text": [
      "('r', 'g', 'b') {'f': 1}\n"
     ]
    }
   ],
   "source": [
    "print(spx.__slots__, spx.__dict__)"
   ],
   "metadata": {
    "collapsed": false,
    "ExecuteTime": {
     "end_time": "2023-07-18T13:34:50.139721Z",
     "start_time": "2023-07-18T13:34:50.133003Z"
    }
   }
  },
  {
   "cell_type": "code",
   "execution_count": null,
   "outputs": [],
   "source": [
    "# Wise words though\n",
    "'Implementing setters and getters up-front is a distraction from the goal.'\n",
    "\n",
    "\"This shows that we can always start our classes in the simplest possible way, with public attributes, because when (or if) we later need to impose more control with get‐ ters and setters, these can be implemented through properties without changing any of the code that already interacts with our objects through the names (e.g., x and y) that were initially simple public attributes.\"\n",
    "\n",
    "# About not so strong privacy in Python\n",
    "\"\"\"Perl doesn’t have an infatuation with enforced privacy. It would prefer that you stayed out of its living room because you weren’t invited, not because it has a shotgun.\n",
    "—Larry Wall, creator of Perl\"\"\"\n",
    "\n",
    "\"Safety is not security!\""
   ],
   "metadata": {
    "collapsed": false
   }
  },
  {
   "cell_type": "code",
   "execution_count": 46,
   "outputs": [
    {
     "name": "stderr",
     "output_type": "stream",
     "text": [
      "\u001B[32m2023-07-18 16:41:06.897\u001B[0m | \u001B[1mINFO    \u001B[0m | \u001B[36mcards_generator\u001B[0m:\u001B[36mgenerate_anki_cards\u001B[0m:\u001B[36m63\u001B[0m - \u001B[1mLength of requests to GPT: 2\u001B[0m\n"
     ]
    }
   ],
   "source": [
    "from config import FLUENT_PYTHON_BOOK\n",
    "from cards_generator import generate_anki_cards, cards_to_csv\n",
    "\n",
    "\n",
    "# Generate anki cards\n",
    "raw_cards = generate_anki_cards(filename=FLUENT_PYTHON_BOOK, start=390, end=425)\n",
    "cards_to_csv(raw_cards, './anki_cards_synth.csv')"
   ],
   "metadata": {
    "collapsed": false,
    "ExecuteTime": {
     "end_time": "2023-07-18T13:41:19.579370Z",
     "start_time": "2023-07-18T13:41:05.115752Z"
    }
   }
  },
  {
   "cell_type": "code",
   "execution_count": 50,
   "outputs": [],
   "source": [
    "import pandas as pd\n",
    "pd.DataFrame.from_records(anki_cards).to_csv('./anki_cards_manual.csv', index=False, header=False)"
   ],
   "metadata": {
    "collapsed": false,
    "ExecuteTime": {
     "end_time": "2023-07-18T14:01:01.824223Z",
     "start_time": "2023-07-18T14:01:01.821191Z"
    }
   }
  },
  {
   "cell_type": "code",
   "execution_count": 67,
   "outputs": [],
   "source": [
    "synth_card = pd.read_csv('./anki_cards_synth.csv', header=None)\n",
    "manual_card = pd.read_csv('./anki_cards_manual.csv', header=None)"
   ],
   "metadata": {
    "collapsed": false,
    "ExecuteTime": {
     "end_time": "2023-07-18T14:06:51.472660Z",
     "start_time": "2023-07-18T14:06:51.466519Z"
    }
   }
  },
  {
   "cell_type": "code",
   "execution_count": 68,
   "outputs": [
    {
     "data": {
      "text/plain": "                                                   0  \\\n0  How you can create new instance using cls vari...   \n1    What method usign when you call format(2, \"b\")?   \n2                         How make variable private?   \n3                       What @property decorator do?   \n4  How you can using user class in patter matchin...   \n5  How you can create new instance using cls vari...   \n6               Best way to change class attributes?   \n7  What if you try to change instance attribute w...   \n8                What a caveats in using __sloats__?   \n9                         When you should use slots?   \n\n                                                   1  \n0                                         cls(*args)  \n1                                         __format__  \n2                add two underscore in front - _ _ x  \n3                       Create getter from function!  \n4                    __match_args = (\"args of init\")  \n5                                         cls(*args)  \n6                Inherit and change it in subclasses  \n7        Only instance variable changed successfully  \n8  1) Subclasses will still have a __dict__ by de...  \n9  When you try to save yout memory ( you are usi...  ",
      "text/html": "<div>\n<style scoped>\n    .dataframe tbody tr th:only-of-type {\n        vertical-align: middle;\n    }\n\n    .dataframe tbody tr th {\n        vertical-align: top;\n    }\n\n    .dataframe thead th {\n        text-align: right;\n    }\n</style>\n<table border=\"1\" class=\"dataframe\">\n  <thead>\n    <tr style=\"text-align: right;\">\n      <th></th>\n      <th>0</th>\n      <th>1</th>\n    </tr>\n  </thead>\n  <tbody>\n    <tr>\n      <th>0</th>\n      <td>How you can create new instance using cls vari...</td>\n      <td>cls(*args)</td>\n    </tr>\n    <tr>\n      <th>1</th>\n      <td>What method usign when you call format(2, \"b\")?</td>\n      <td>__format__</td>\n    </tr>\n    <tr>\n      <th>2</th>\n      <td>How make variable private?</td>\n      <td>add two underscore in front - _ _ x</td>\n    </tr>\n    <tr>\n      <th>3</th>\n      <td>What @property decorator do?</td>\n      <td>Create getter from function!</td>\n    </tr>\n    <tr>\n      <th>4</th>\n      <td>How you can using user class in patter matchin...</td>\n      <td>__match_args = (\"args of init\")</td>\n    </tr>\n    <tr>\n      <th>5</th>\n      <td>How you can create new instance using cls vari...</td>\n      <td>cls(*args)</td>\n    </tr>\n    <tr>\n      <th>6</th>\n      <td>Best way to change class attributes?</td>\n      <td>Inherit and change it in subclasses</td>\n    </tr>\n    <tr>\n      <th>7</th>\n      <td>What if you try to change instance attribute w...</td>\n      <td>Only instance variable changed successfully</td>\n    </tr>\n    <tr>\n      <th>8</th>\n      <td>What a caveats in using __sloats__?</td>\n      <td>1) Subclasses will still have a __dict__ by de...</td>\n    </tr>\n    <tr>\n      <th>9</th>\n      <td>When you should use slots?</td>\n      <td>When you try to save yout memory ( you are usi...</td>\n    </tr>\n  </tbody>\n</table>\n</div>"
     },
     "execution_count": 68,
     "metadata": {},
     "output_type": "execute_result"
    }
   ],
   "source": [
    "manual_card"
   ],
   "metadata": {
    "collapsed": false,
    "ExecuteTime": {
     "end_time": "2023-07-18T14:06:52.320995Z",
     "start_time": "2023-07-18T14:06:52.314424Z"
    }
   }
  },
  {
   "cell_type": "code",
   "execution_count": 72,
   "outputs": [],
   "source": [
    "pd.concat([synth_card, manual_card], axis=0, ignore_index=True).to_csv('./anki_cards.csv', index=False, header=False)"
   ],
   "metadata": {
    "collapsed": false,
    "ExecuteTime": {
     "end_time": "2023-07-18T14:07:59.182685Z",
     "start_time": "2023-07-18T14:07:59.177592Z"
    }
   }
  },
  {
   "cell_type": "code",
   "execution_count": null,
   "outputs": [],
   "source": [],
   "metadata": {
    "collapsed": false
   }
  }
 ],
 "metadata": {
  "kernelspec": {
   "display_name": "Python 3",
   "language": "python",
   "name": "python3"
  },
  "language_info": {
   "codemirror_mode": {
    "name": "ipython",
    "version": 2
   },
   "file_extension": ".py",
   "mimetype": "text/x-python",
   "name": "python",
   "nbconvert_exporter": "python",
   "pygments_lexer": "ipython2",
   "version": "2.7.6"
  }
 },
 "nbformat": 4,
 "nbformat_minor": 0
}
