{
 "cells": [
  {
   "cell_type": "markdown",
   "source": [
    "### Overloaded signatures"
   ],
   "metadata": {
    "collapsed": false
   }
  },
  {
   "cell_type": "code",
   "execution_count": 12,
   "outputs": [
    {
     "name": "stdout",
     "output_type": "stream",
     "text": [
      "Help on built-in function sum in module builtins:\n",
      "\n",
      "sum(iterable, /, start=0)\n",
      "    Return the sum of a 'start' value (default: 0) plus an iterable of numbers\n",
      "    \n",
      "    When the iterable is empty, return the start value.\n",
      "    This function is intended specifically for use with numeric values and may\n",
      "    reject non-numeric types.\n",
      "\n"
     ]
    }
   ],
   "source": [
    "help(sum)"
   ],
   "metadata": {
    "collapsed": false,
    "ExecuteTime": {
     "end_time": "2023-07-23T13:58:52.843944Z",
     "start_time": "2023-07-23T13:58:52.841398Z"
    }
   }
  },
  {
   "cell_type": "markdown",
   "source": [
    "### Look to the [typeshed](https://github.com/python/typeshed/blob/a8834fcd46339e17fc8add82b5803a1ce53d3d60/stdlib/2and3/builtins.pyi#L1434) closely\n",
    "\n",
    "```python\n",
    "@overload\n",
    "def sum(__iterable: Iterable[_T]) -> Union[_T, int]: ...\n",
    "@overload\n",
    "def sum(__iterable: Iterable[_T], start: _S) -> Union[_T, _S]: ...\n",
    "```\n",
    "\n",
    "__ - positional only arguments by MyPy"
   ],
   "metadata": {
    "collapsed": false
   }
  },
  {
   "cell_type": "code",
   "execution_count": 13,
   "outputs": [],
   "source": [
    "def example(__f):\n",
    "    print(__f)"
   ],
   "metadata": {
    "collapsed": false,
    "ExecuteTime": {
     "end_time": "2023-07-23T13:58:54.954632Z",
     "start_time": "2023-07-23T13:58:54.952519Z"
    }
   }
  },
  {
   "cell_type": "code",
   "execution_count": 14,
   "outputs": [
    {
     "name": "stdout",
     "output_type": "stream",
     "text": [
      "[]\n"
     ]
    }
   ],
   "source": [
    "example(__f=[])"
   ],
   "metadata": {
    "collapsed": false,
    "ExecuteTime": {
     "end_time": "2023-07-23T13:58:55.309572Z",
     "start_time": "2023-07-23T13:58:55.304834Z"
    }
   }
  },
  {
   "cell_type": "code",
   "execution_count": 15,
   "outputs": [
    {
     "name": "stdout",
     "output_type": "stream",
     "text": [
      "\u001B[1m\u001B[32mSuccess: no issues found in 1 source file\u001B[m\r\n"
     ]
    }
   ],
   "source": [
    "!mypy ./mysum.py"
   ],
   "metadata": {
    "collapsed": false,
    "ExecuteTime": {
     "end_time": "2023-07-23T13:58:56.196956Z",
     "start_time": "2023-07-23T13:58:55.751421Z"
    }
   }
  },
  {
   "cell_type": "markdown",
   "source": [
    "### TypedDict"
   ],
   "metadata": {
    "collapsed": false
   }
  },
  {
   "cell_type": "code",
   "execution_count": 17,
   "outputs": [],
   "source": [
    "from typing import TypedDict\n",
    "\n",
    "class BookDict(TypedDict):\n",
    "    isbn: str\n",
    "    title: str\n",
    "    authors: list[str]\n",
    "    pagecount: int"
   ],
   "metadata": {
    "collapsed": false,
    "ExecuteTime": {
     "end_time": "2023-07-23T14:01:56.857696Z",
     "start_time": "2023-07-23T14:01:56.853933Z"
    }
   }
  },
  {
   "cell_type": "code",
   "execution_count": 18,
   "outputs": [
    {
     "data": {
      "text/plain": "{'isbn': '123213', 'authors': '1', 'pagecount': 1, 'title': '2'}"
     },
     "execution_count": 18,
     "metadata": {},
     "output_type": "execute_result"
    }
   ],
   "source": [
    "# We can ignore field types in runtime ( authors expect a list, but we use string instead)\n",
    "BookDict(isbn='123213', authors='1', pagecount=1, title='2')"
   ],
   "metadata": {
    "collapsed": false,
    "ExecuteTime": {
     "end_time": "2023-07-23T14:01:57.184278Z",
     "start_time": "2023-07-23T14:01:57.175426Z"
    }
   }
  },
  {
   "cell_type": "code",
   "execution_count": 19,
   "outputs": [
    {
     "data": {
      "text/plain": "{'isbn': str, 'title': str, 'authors': list[str], 'pagecount': int}"
     },
     "execution_count": 19,
     "metadata": {},
     "output_type": "execute_result"
    }
   ],
   "source": [
    "BookDict.__annotations__"
   ],
   "metadata": {
    "collapsed": false,
    "ExecuteTime": {
     "end_time": "2023-07-23T14:02:03.142182Z",
     "start_time": "2023-07-23T14:02:03.131878Z"
    }
   }
  },
  {
   "cell_type": "code",
   "execution_count": 1,
   "outputs": [],
   "source": [
    "anki_cards = [\n",
    "    {\"question\": \"What you can use to static typing dict with keys?\",\n",
    "     \"answer\": \"typing.TypedDict\"},\n",
    "    {\"question\": \"How you can describe two version of type checking for a func?\",\n",
    "     \"answer\": \"using @overload decorator from typing\"}\n",
    "]"
   ],
   "metadata": {
    "collapsed": false,
    "ExecuteTime": {
     "end_time": "2023-07-25T16:29:31.149458Z",
     "start_time": "2023-07-25T16:29:31.145351Z"
    }
   }
  },
  {
   "cell_type": "code",
   "execution_count": 2,
   "outputs": [
    {
     "data": {
      "text/plain": "'./anki_cards_manual.csv'"
     },
     "execution_count": 2,
     "metadata": {},
     "output_type": "execute_result"
    }
   ],
   "source": [
    "from anki.formatter import save_cards\n",
    "from anki.config import MANUAL_ANKI_CARDS_SAVEPATH\n",
    "\n",
    "save_cards(anki_cards, MANUAL_ANKI_CARDS_SAVEPATH)"
   ],
   "metadata": {
    "collapsed": false,
    "ExecuteTime": {
     "end_time": "2023-07-25T16:31:33.243555Z",
     "start_time": "2023-07-25T16:31:32.949425Z"
    }
   }
  },
  {
   "cell_type": "code",
   "execution_count": null,
   "outputs": [],
   "source": [],
   "metadata": {
    "collapsed": false
   }
  }
 ],
 "metadata": {
  "kernelspec": {
   "display_name": "Python 3",
   "language": "python",
   "name": "python3"
  },
  "language_info": {
   "codemirror_mode": {
    "name": "ipython",
    "version": 2
   },
   "file_extension": ".py",
   "mimetype": "text/x-python",
   "name": "python",
   "nbconvert_exporter": "python",
   "pygments_lexer": "ipython2",
   "version": "2.7.6"
  }
 },
 "nbformat": 4,
 "nbformat_minor": 0
}
