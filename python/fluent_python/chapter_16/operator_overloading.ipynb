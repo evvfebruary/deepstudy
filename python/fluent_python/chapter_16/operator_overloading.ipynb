{
 "cells": [
  {
   "cell_type": "code",
   "execution_count": 1,
   "metadata": {
    "collapsed": true,
    "ExecuteTime": {
     "end_time": "2023-07-25T16:06:31.200887Z",
     "start_time": "2023-07-25T16:06:31.184135Z"
    }
   },
   "outputs": [],
   "source": [
    "# Unary operations ( __pos__ handling)\n",
    "import decimal\n",
    "ctx = decimal.getcontext()"
   ]
  },
  {
   "cell_type": "code",
   "execution_count": 2,
   "outputs": [],
   "source": [
    "ctx.prec = 40"
   ],
   "metadata": {
    "collapsed": false,
    "ExecuteTime": {
     "end_time": "2023-07-25T16:06:31.207826Z",
     "start_time": "2023-07-25T16:06:31.204923Z"
    }
   }
  },
  {
   "cell_type": "code",
   "execution_count": 3,
   "outputs": [
    {
     "data": {
      "text/plain": "(True, True)"
     },
     "execution_count": 3,
     "metadata": {},
     "output_type": "execute_result"
    }
   ],
   "source": [
    "one_third = decimal.Decimal('1') / decimal.Decimal('3')\n",
    "one_third == +one_third, one_third == one_third.__pos__()"
   ],
   "metadata": {
    "collapsed": false,
    "ExecuteTime": {
     "end_time": "2023-07-25T16:06:31.216805Z",
     "start_time": "2023-07-25T16:06:31.213430Z"
    }
   }
  },
  {
   "cell_type": "code",
   "execution_count": 4,
   "outputs": [
    {
     "data": {
      "text/plain": "(False, False)"
     },
     "execution_count": 4,
     "metadata": {},
     "output_type": "execute_result"
    }
   ],
   "source": [
    "ctx.prec = 28\n",
    "one_third == +one_third, one_third == one_third.__pos__()"
   ],
   "metadata": {
    "collapsed": false,
    "ExecuteTime": {
     "end_time": "2023-07-25T16:06:31.220883Z",
     "start_time": "2023-07-25T16:06:31.217985Z"
    }
   }
  },
  {
   "cell_type": "code",
   "execution_count": 5,
   "outputs": [
    {
     "data": {
      "text/plain": "(Decimal('0.3333333333333333333333333333333333333333'),\n Decimal('0.3333333333333333333333333333'))"
     },
     "execution_count": 5,
     "metadata": {},
     "output_type": "execute_result"
    }
   ],
   "source": [
    "one_third, +one_third"
   ],
   "metadata": {
    "collapsed": false,
    "ExecuteTime": {
     "end_time": "2023-07-25T16:06:31.244473Z",
     "start_time": "2023-07-25T16:06:31.223592Z"
    }
   }
  },
  {
   "cell_type": "code",
   "execution_count": 6,
   "outputs": [
    {
     "data": {
      "text/plain": "Counter({'a': 5, 'b': 2, 'r': 2, 'c': 1, 'd': 1})"
     },
     "execution_count": 6,
     "metadata": {},
     "output_type": "execute_result"
    }
   ],
   "source": [
    "from collections import Counter\n",
    "\n",
    "# More simplier example when __pos__  not a x == +x\n",
    "ct = Counter('abracadabra')\n",
    "ct"
   ],
   "metadata": {
    "collapsed": false,
    "ExecuteTime": {
     "end_time": "2023-07-25T16:06:31.244742Z",
     "start_time": "2023-07-25T16:06:31.227073Z"
    }
   }
  },
  {
   "cell_type": "code",
   "execution_count": 7,
   "outputs": [
    {
     "data": {
      "text/plain": "Counter({'a': 5, 'b': 2, 'c': 1, 'd': 0, 'r': -3})"
     },
     "execution_count": 7,
     "metadata": {},
     "output_type": "execute_result"
    }
   ],
   "source": [
    "ct['r'] = -3\n",
    "ct['d'] = 0\n",
    "ct"
   ],
   "metadata": {
    "collapsed": false,
    "ExecuteTime": {
     "end_time": "2023-07-25T16:06:31.244978Z",
     "start_time": "2023-07-25T16:06:31.231433Z"
    }
   }
  },
  {
   "cell_type": "code",
   "execution_count": 8,
   "outputs": [
    {
     "data": {
      "text/plain": "Counter({'a': 5, 'b': 2, 'c': 1})"
     },
     "execution_count": 8,
     "metadata": {},
     "output_type": "execute_result"
    }
   ],
   "source": [
    "+ct"
   ],
   "metadata": {
    "collapsed": false,
    "ExecuteTime": {
     "end_time": "2023-07-25T16:06:31.245272Z",
     "start_time": "2023-07-25T16:06:31.234876Z"
    }
   }
  },
  {
   "cell_type": "code",
   "execution_count": 9,
   "outputs": [],
   "source": [
    "from itertools import zip_longest"
   ],
   "metadata": {
    "collapsed": false,
    "ExecuteTime": {
     "end_time": "2023-07-25T16:06:31.245518Z",
     "start_time": "2023-07-25T16:06:31.237311Z"
    }
   }
  },
  {
   "cell_type": "code",
   "execution_count": 10,
   "outputs": [
    {
     "data": {
      "text/plain": "[(0, 1), (1, 2), (2, -1), (3, -1), (4, -1)]"
     },
     "execution_count": 10,
     "metadata": {},
     "output_type": "execute_result"
    }
   ],
   "source": [
    "list(zip_longest([0,1,2,3,4], [1,2], fillvalue=-1))"
   ],
   "metadata": {
    "collapsed": false,
    "ExecuteTime": {
     "end_time": "2023-07-25T16:06:31.245706Z",
     "start_time": "2023-07-25T16:06:31.241355Z"
    }
   }
  },
  {
   "cell_type": "code",
   "execution_count": 11,
   "outputs": [],
   "source": [
    "anki_cards = [\n",
    "    {'question': \"How exactly python interpreter will perform when you execute a + b? Describe the steps\",\n",
    "     'answer': '1. If a has __add__, this method will be called \\n 2. Check b have __radd__ method. \\n 3. raise TypeError'},\n",
    "    {'question': \"How you can implement _ _ radd _ _ method for class which already have _ _ add __ method?\",\n",
    "     'answer': \"just invoke the _ _ add _ _, or even _ _ radd _ _ = _ _ add _ _\"},\n",
    "    {'question': 'What dunder method responsible for @?', 'answer': '_ _ matmul _ _'},\n",
    "    {\"question\":'Fallback for __iadd__?', \"answer\": \"__add__ will be called, a += b to a = a + b\"},\n",
    "    {\"question\": \"Which + and - unary operators will be call?\", \"answer\": \"_ _ pos _ _ and _ _ neg _ _\"}\n",
    "]\n"
   ],
   "metadata": {
    "collapsed": false,
    "ExecuteTime": {
     "end_time": "2023-07-25T16:06:31.251373Z",
     "start_time": "2023-07-25T16:06:31.245039Z"
    }
   }
  },
  {
   "cell_type": "code",
   "execution_count": 12,
   "outputs": [
    {
     "data": {
      "text/plain": "'./anki_cards_manual.csv'"
     },
     "execution_count": 12,
     "metadata": {},
     "output_type": "execute_result"
    }
   ],
   "source": [
    "from config import FLUENT_PYTHON_BOOK\n",
    "from anki.generator import generate_anki_cards\n",
    "from anki.formatter import save_cards,combine_anki_cards_csv\n",
    "from anki.config import SYNTH_ANKI_CARDS_SAVEPATH, MANUAL_ANKI_CARDS_SAVEPATH\n",
    "\n",
    "# Generate anki cards\n",
    "anki_cards_synth = generate_anki_cards(filepath=FLUENT_PYTHON_BOOK, start_page=590, end_page=620)\n",
    "save_cards(anki_cards_synth, SYNTH_ANKI_CARDS_SAVEPATH)\n",
    "save_cards(anki_cards, MANUAL_ANKI_CARDS_SAVEPATH)"
   ],
   "metadata": {
    "collapsed": false,
    "ExecuteTime": {
     "end_time": "2023-07-25T16:07:52.849719Z",
     "start_time": "2023-07-25T16:06:46.389735Z"
    }
   }
  },
  {
   "cell_type": "code",
   "execution_count": 13,
   "outputs": [
    {
     "data": {
      "text/plain": "'./anki_cards.csv'"
     },
     "execution_count": 13,
     "metadata": {},
     "output_type": "execute_result"
    }
   ],
   "source": [
    "combine_anki_cards_csv([MANUAL_ANKI_CARDS_SAVEPATH, SYNTH_ANKI_CARDS_SAVEPATH])\n"
   ],
   "metadata": {
    "collapsed": false,
    "ExecuteTime": {
     "end_time": "2023-07-25T16:11:13.356488Z",
     "start_time": "2023-07-25T16:11:13.350330Z"
    }
   }
  },
  {
   "cell_type": "code",
   "execution_count": null,
   "outputs": [],
   "source": [],
   "metadata": {
    "collapsed": false
   }
  }
 ],
 "metadata": {
  "kernelspec": {
   "display_name": "Python 3",
   "language": "python",
   "name": "python3"
  },
  "language_info": {
   "codemirror_mode": {
    "name": "ipython",
    "version": 2
   },
   "file_extension": ".py",
   "mimetype": "text/x-python",
   "name": "python",
   "nbconvert_exporter": "python",
   "pygments_lexer": "ipython2",
   "version": "2.7.6"
  }
 },
 "nbformat": 4,
 "nbformat_minor": 0
}
