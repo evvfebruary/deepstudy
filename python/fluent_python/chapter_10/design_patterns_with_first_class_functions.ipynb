{
 "cells": [
  {
   "cell_type": "code",
   "execution_count": 1,
   "metadata": {
    "collapsed": true,
    "ExecuteTime": {
     "end_time": "2023-07-17T18:50:13.117639Z",
     "start_time": "2023-07-17T18:50:13.108739Z"
    }
   },
   "outputs": [],
   "source": [
    "from python.fluent_python.chapter_10.strategy_via_classes.strategy import Customer\n",
    "\n",
    "joe = Customer('John Doe', 0)\n",
    "ann = Customer('Ann Smith', 1100)"
   ]
  },
  {
   "cell_type": "code",
   "execution_count": 2,
   "outputs": [],
   "source": [
    "from _decimal import Decimal\n",
    "from python.fluent_python.chapter_10.strategy_via_classes.strategy import LineItem\n",
    "\n",
    "cart = (LineItem('banana', 4, Decimal('.5')),\n",
    "        LineItem('apple', 10, Decimal('1.5')),\n",
    "        LineItem('watermelon', 5, Decimal(5)))"
   ],
   "metadata": {
    "collapsed": false,
    "ExecuteTime": {
     "end_time": "2023-07-17T18:50:18.035452Z",
     "start_time": "2023-07-17T18:50:18.030046Z"
    }
   }
  },
  {
   "cell_type": "code",
   "execution_count": 3,
   "outputs": [
    {
     "data": {
      "text/plain": "<Order total: 42.00 due: 42.00>"
     },
     "execution_count": 3,
     "metadata": {},
     "output_type": "execute_result"
    }
   ],
   "source": [
    "from python.fluent_python.chapter_10.strategy_via_classes.strategy import Order, FidelityPromo\n",
    "\n",
    "Order(joe, cart, FidelityPromo())"
   ],
   "metadata": {
    "collapsed": false,
    "ExecuteTime": {
     "end_time": "2023-07-17T18:50:19.027505Z",
     "start_time": "2023-07-17T18:50:19.025385Z"
    }
   }
  },
  {
   "cell_type": "code",
   "execution_count": 4,
   "outputs": [
    {
     "data": {
      "text/plain": "<Order total: 42.00 due: 39.90>"
     },
     "execution_count": 4,
     "metadata": {},
     "output_type": "execute_result"
    }
   ],
   "source": [
    "Order(ann, cart, FidelityPromo())"
   ],
   "metadata": {
    "collapsed": false,
    "ExecuteTime": {
     "end_time": "2023-07-17T18:50:32.967237Z",
     "start_time": "2023-07-17T18:50:32.958157Z"
    }
   }
  },
  {
   "cell_type": "markdown",
   "source": [
    "## Nice one, but can we use functions instead?"
   ],
   "metadata": {
    "collapsed": false
   }
  },
  {
   "cell_type": "code",
   "execution_count": 5,
   "outputs": [
    {
     "data": {
      "text/plain": "<Order total: 42.00 due: 39.90>"
     },
     "execution_count": 5,
     "metadata": {},
     "output_type": "execute_result"
    }
   ],
   "source": [
    "from python.fluent_python.chapter_10.strategy_via_classes.strategy import fidelity_promo, OrderForFunc\n",
    "\n",
    "OrderForFunc(ann, cart, fidelity_promo)"
   ],
   "metadata": {
    "collapsed": false,
    "ExecuteTime": {
     "end_time": "2023-07-17T12:55:27.195097Z",
     "start_time": "2023-07-17T12:55:27.192512Z"
    }
   }
  },
  {
   "cell_type": "code",
   "execution_count": 5,
   "outputs": [],
   "source": [
    "# THE CALL"
   ],
   "metadata": {
    "collapsed": false,
    "ExecuteTime": {
     "end_time": "2023-07-17T18:50:35.313248Z",
     "start_time": "2023-07-17T18:50:35.309222Z"
    }
   }
  },
  {
   "cell_type": "code",
   "execution_count": 6,
   "outputs": [],
   "source": [
    "def turtle():\n",
    "        return 'eggs'"
   ],
   "metadata": {
    "collapsed": false,
    "ExecuteTime": {
     "end_time": "2023-07-17T18:50:36.760701Z",
     "start_time": "2023-07-17T18:50:36.756887Z"
    }
   }
  },
  {
   "cell_type": "code",
   "execution_count": 7,
   "outputs": [
    {
     "data": {
      "text/plain": "'eggs'"
     },
     "execution_count": 7,
     "metadata": {},
     "output_type": "execute_result"
    }
   ],
   "source": [
    "turtle()"
   ],
   "metadata": {
    "collapsed": false,
    "ExecuteTime": {
     "end_time": "2023-07-17T18:50:38.235754Z",
     "start_time": "2023-07-17T18:50:38.231485Z"
    }
   }
  },
  {
   "cell_type": "code",
   "execution_count": 8,
   "outputs": [
    {
     "data": {
      "text/plain": "'eggs'"
     },
     "execution_count": 8,
     "metadata": {},
     "output_type": "execute_result"
    }
   ],
   "source": [
    "turtle.__call__()"
   ],
   "metadata": {
    "collapsed": false,
    "ExecuteTime": {
     "end_time": "2023-07-17T18:50:40.703419Z",
     "start_time": "2023-07-17T18:50:40.698512Z"
    }
   }
  },
  {
   "cell_type": "code",
   "execution_count": 9,
   "outputs": [
    {
     "data": {
      "text/plain": "'eggs'"
     },
     "execution_count": 9,
     "metadata": {},
     "output_type": "execute_result"
    }
   ],
   "source": [
    "turtle.__call__.__call__()"
   ],
   "metadata": {
    "collapsed": false,
    "ExecuteTime": {
     "end_time": "2023-07-17T18:50:42.343775Z",
     "start_time": "2023-07-17T18:50:42.338729Z"
    }
   }
  },
  {
   "cell_type": "code",
   "execution_count": 10,
   "outputs": [
    {
     "data": {
      "text/plain": "'eggs'"
     },
     "execution_count": 10,
     "metadata": {},
     "output_type": "execute_result"
    }
   ],
   "source": [
    "# Well, what a beauty, right?\n",
    "turtle.__call__.__call__.__call__.__call__.__call__.__call__.__call__.__call__.__call__.__call__()"
   ],
   "metadata": {
    "collapsed": false,
    "ExecuteTime": {
     "end_time": "2023-07-17T18:50:43.722657Z",
     "start_time": "2023-07-17T18:50:43.719104Z"
    }
   }
  },
  {
   "cell_type": "code",
   "execution_count": 21,
   "outputs": [],
   "source": [
    "from functools import wraps\n",
    "def some_dec(visible=False):\n",
    "        def dec(func):\n",
    "                @wraps(func)\n",
    "                def logic(*args,**kwargs):\n",
    "                        if visible:\n",
    "                                print(\"!@#\")\n",
    "                        result = func(*args, **kwargs)\n",
    "                        return result\n",
    "                return logic\n",
    "        return dec"
   ],
   "metadata": {
    "collapsed": false,
    "ExecuteTime": {
     "end_time": "2023-07-17T14:17:44.114967Z",
     "start_time": "2023-07-17T14:17:44.113730Z"
    }
   }
  },
  {
   "cell_type": "code",
   "execution_count": 22,
   "outputs": [],
   "source": [
    "@some_dec(visible=True)\n",
    "def example():\n",
    "        print(1)"
   ],
   "metadata": {
    "collapsed": false,
    "ExecuteTime": {
     "end_time": "2023-07-17T14:18:38.322805Z",
     "start_time": "2023-07-17T14:18:38.311776Z"
    }
   }
  },
  {
   "cell_type": "code",
   "execution_count": 48,
   "outputs": [],
   "source": [
    "class ClassAsDecorator:\n",
    "     def __init__(self, function):\n",
    "             self.function = function\n",
    "     def __call__(self, *args, **kwargs):\n",
    "             print(\"called\")\n",
    "             return self.function(*args, **kwargs)\n",
    "\n",
    "     def __code__(self):\n",
    "             return self.function.__code__\n"
   ],
   "metadata": {
    "collapsed": false,
    "ExecuteTime": {
     "end_time": "2023-07-17T14:40:56.937539Z",
     "start_time": "2023-07-17T14:40:56.933195Z"
    }
   }
  },
  {
   "cell_type": "code",
   "execution_count": 53,
   "outputs": [],
   "source": [
    "from typing import TypeAlias\n",
    "\n",
    "record: TypeAlias = tuple[str, str]"
   ],
   "metadata": {
    "collapsed": false,
    "ExecuteTime": {
     "end_time": "2023-07-17T14:46:26.007336Z",
     "start_time": "2023-07-17T14:46:26.002756Z"
    }
   }
  },
  {
   "cell_type": "code",
   "execution_count": 54,
   "outputs": [],
   "source": [
    "a = {1,2,3}\n",
    "b = {3,4,5}"
   ],
   "metadata": {
    "collapsed": false,
    "ExecuteTime": {
     "end_time": "2023-07-17T14:46:47.417819Z",
     "start_time": "2023-07-17T14:46:47.414274Z"
    }
   }
  },
  {
   "cell_type": "code",
   "execution_count": 55,
   "outputs": [
    {
     "data": {
      "text/plain": "{1, 2, 4, 5}"
     },
     "execution_count": 55,
     "metadata": {},
     "output_type": "execute_result"
    }
   ],
   "source": [
    "a ^ b"
   ],
   "metadata": {
    "collapsed": false,
    "ExecuteTime": {
     "end_time": "2023-07-17T14:46:51.875407Z",
     "start_time": "2023-07-17T14:46:51.872399Z"
    }
   }
  },
  {
   "cell_type": "code",
   "execution_count": 50,
   "outputs": [
    {
     "name": "stdout",
     "output_type": "stream",
     "text": [
      "called\n",
      "5\n"
     ]
    }
   ],
   "source": [
    "example(5)"
   ],
   "metadata": {
    "collapsed": false,
    "ExecuteTime": {
     "end_time": "2023-07-17T14:40:58.730720Z",
     "start_time": "2023-07-17T14:40:58.726891Z"
    }
   }
  },
  {
   "cell_type": "code",
   "execution_count": 51,
   "outputs": [],
   "source": [
    "def example(a):\n",
    "        print(a)"
   ],
   "metadata": {
    "collapsed": false,
    "ExecuteTime": {
     "end_time": "2023-07-17T14:40:59.480413Z",
     "start_time": "2023-07-17T14:40:59.475364Z"
    }
   }
  },
  {
   "cell_type": "code",
   "execution_count": 52,
   "outputs": [
    {
     "data": {
      "text/plain": "<code object example at 0x1083db2f0, file \"/var/folders/v2/jjc147wd0p3f146t0pxcjvlc0000gn/T/ipykernel_27234/1362507862.py\", line 1>"
     },
     "execution_count": 52,
     "metadata": {},
     "output_type": "execute_result"
    }
   ],
   "source": [
    "example.__code__"
   ],
   "metadata": {
    "collapsed": false,
    "ExecuteTime": {
     "end_time": "2023-07-17T14:40:59.832695Z",
     "start_time": "2023-07-17T14:40:59.829949Z"
    }
   }
  },
  {
   "cell_type": "code",
   "execution_count": 56,
   "outputs": [
    {
     "name": "stderr",
     "output_type": "stream",
     "text": [
      "\u001B[32m2023-07-17 20:38:15.030\u001B[0m | \u001B[1mINFO    \u001B[0m | \u001B[36mcards_generator\u001B[0m:\u001B[36mgenerate_anki_cards\u001B[0m:\u001B[36m63\u001B[0m - \u001B[1mLength of requests to GPT: 1\u001B[0m\n"
     ]
    }
   ],
   "source": [
    "from config import FLUENT_PYTHON_BOOK\n",
    "from cards_generator import generate_anki_cards, cards_to_csv\n",
    "\n",
    "# Generate anki cards\n",
    "raw_cards = generate_anki_cards(filename=FLUENT_PYTHON_BOOK, start=370, end=387)\n",
    "cards_to_csv(raw_cards, './anki_cards_synth.csv')"
   ],
   "metadata": {
    "collapsed": false,
    "ExecuteTime": {
     "end_time": "2023-07-17T17:38:26.927797Z",
     "start_time": "2023-07-17T17:38:14.006345Z"
    }
   }
  },
  {
   "cell_type": "code",
   "execution_count": null,
   "outputs": [],
   "source": [],
   "metadata": {
    "collapsed": false
   }
  }
 ],
 "metadata": {
  "kernelspec": {
   "display_name": "Python 3",
   "language": "python",
   "name": "python3"
  },
  "language_info": {
   "codemirror_mode": {
    "name": "ipython",
    "version": 2
   },
   "file_extension": ".py",
   "mimetype": "text/x-python",
   "name": "python",
   "nbconvert_exporter": "python",
   "pygments_lexer": "ipython2",
   "version": "2.7.6"
  }
 },
 "nbformat": 4,
 "nbformat_minor": 0
}
