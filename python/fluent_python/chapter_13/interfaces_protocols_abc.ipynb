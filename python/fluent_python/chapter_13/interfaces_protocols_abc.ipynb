{
 "cells": [
  {
   "cell_type": "code",
   "execution_count": 1,
   "metadata": {
    "collapsed": true,
    "ExecuteTime": {
     "end_time": "2023-07-20T17:03:06.960860Z",
     "start_time": "2023-07-20T17:03:06.949667Z"
    }
   },
   "outputs": [
    {
     "data": {
      "text/plain": "True"
     },
     "execution_count": 1,
     "metadata": {},
     "output_type": "execute_result"
    }
   ],
   "source": [
    "from collections import abc as abc_col\n",
    "from abc import ABC\n",
    "\n",
    "class Strugle:\n",
    "\n",
    "    def __len__(self):\n",
    "        return 42\n",
    "\n",
    "isinstance(Strugle(), abc_col.Sized)"
   ]
  },
  {
   "cell_type": "code",
   "execution_count": 2,
   "outputs": [
    {
     "data": {
      "text/plain": "False"
     },
     "execution_count": 2,
     "metadata": {},
     "output_type": "execute_result"
    }
   ],
   "source": [
    "isinstance(abc_col.Sized, ABC)"
   ],
   "metadata": {
    "collapsed": false,
    "ExecuteTime": {
     "end_time": "2023-07-20T17:03:06.967885Z",
     "start_time": "2023-07-20T17:03:06.964755Z"
    }
   }
  },
  {
   "cell_type": "code",
   "execution_count": 3,
   "outputs": [
    {
     "data": {
      "text/plain": "abc.ABC"
     },
     "execution_count": 3,
     "metadata": {},
     "output_type": "execute_result"
    }
   ],
   "source": [
    "ABC"
   ],
   "metadata": {
    "collapsed": false,
    "ExecuteTime": {
     "end_time": "2023-07-20T17:03:06.972751Z",
     "start_time": "2023-07-20T17:03:06.969312Z"
    }
   }
  },
  {
   "cell_type": "code",
   "execution_count": 4,
   "outputs": [
    {
     "data": {
      "text/plain": "collections.abc.Sized"
     },
     "execution_count": 4,
     "metadata": {},
     "output_type": "execute_result"
    }
   ],
   "source": [
    "abc_col.Sized"
   ],
   "metadata": {
    "collapsed": false,
    "ExecuteTime": {
     "end_time": "2023-07-20T17:03:06.975996Z",
     "start_time": "2023-07-20T17:03:06.973592Z"
    }
   }
  },
  {
   "cell_type": "code",
   "execution_count": 5,
   "outputs": [
    {
     "data": {
      "text/plain": "(__main__.Strugle, object)"
     },
     "execution_count": 5,
     "metadata": {},
     "output_type": "execute_result"
    }
   ],
   "source": [
    "Strugle.__mro__"
   ],
   "metadata": {
    "collapsed": false,
    "ExecuteTime": {
     "end_time": "2023-07-20T17:03:07.015154Z",
     "start_time": "2023-07-20T17:03:06.976997Z"
    }
   }
  },
  {
   "cell_type": "code",
   "execution_count": 6,
   "outputs": [],
   "source": [
    "anki_cards = [\n",
    "    {\"question\": \"What is _ _ mro _ _ stance for?\",\n",
    "     \"answer\":\"Method Resolution Order\"},\n",
    "    {\"question\": \"What method should you call to check all inheritance structure?\",\n",
    "     \"answer\":\"_ _ mro _ _\"},\n",
    "    {\"question\": \"class Struggle: \\n def __len__(self): ... \\n issubclass(Struggle, abc.Sized) ?\",\n",
    "     \"answer\":\"Will be True!\"},\n",
    "    {\"question\": \"How exactly abc.Sized can check their virtual subclasses without inheritance and register?\",\n",
    "     \"answer\":\"Using __subclasshook__ method and check some methods implemented \\n if any('__len__' in B.__dict__ for B in C.__mro__):\"},\n",
    "    {\"question\": \"How you can linked your class with ABC class without inheritance?\",\n",
    "     \"answer\":\"ABCClass.register(YourSubclass)\"},\n",
    "    {\"question\": \"What is EAFP principle?\",\n",
    "     \"answer\":\"EASY TO ASK FORGIVNES THAN PERMISSION ( try to execute some method simpler than check can we do it before )\"},\n",
    "    {\"question\": \"What is Interface segregation principle?\",\n",
    "     \"answer\":\"no code should be forced to depend on methods it does not use, ISP splits interfaces that are very large into smaller and more specific ones so that clients will only have to know about the methods that are of interest to them\"},\n",
    "]"
   ],
   "metadata": {
    "collapsed": false,
    "ExecuteTime": {
     "end_time": "2023-07-20T17:03:07.015420Z",
     "start_time": "2023-07-20T17:03:06.983102Z"
    }
   }
  },
  {
   "cell_type": "code",
   "execution_count": 9,
   "outputs": [],
   "source": [
    "from config import FLUENT_PYTHON_BOOK\n",
    "from anki.generator import generate_anki_cards\n",
    "from anki.formatter import save_cards,combine_anki_cards_csv\n",
    "from anki.config import SYNTH_ANKI_CARDS_SAVEPATH, MANUAL_ANKI_CARDS_SAVEPATH\n",
    "\n",
    "# Generate anki cards\n",
    "anki_cards_synth = generate_anki_cards(filepath=FLUENT_PYTHON_BOOK, start_page=462, end_page=512)\n",
    "save_cards(anki_cards_synth, SYNTH_ANKI_CARDS_SAVEPATH)\n",
    "save_cards(anki_cards, MANUAL_ANKI_CARDS_SAVEPATH)\n",
    "combine_anki_cards_csv([MANUAL_ANKI_CARDS_SAVEPATH, SYNTH_ANKI_CARDS_SAVEPATH])"
   ],
   "metadata": {
    "collapsed": false,
    "ExecuteTime": {
     "end_time": "2023-07-20T17:05:14.317890Z",
     "start_time": "2023-07-20T17:03:43.305665Z"
    }
   }
  },
  {
   "cell_type": "code",
   "execution_count": null,
   "outputs": [],
   "source": [],
   "metadata": {
    "collapsed": false
   }
  }
 ],
 "metadata": {
  "kernelspec": {
   "display_name": "Python 3",
   "language": "python",
   "name": "python3"
  },
  "language_info": {
   "codemirror_mode": {
    "name": "ipython",
    "version": 2
   },
   "file_extension": ".py",
   "mimetype": "text/x-python",
   "name": "python",
   "nbconvert_exporter": "python",
   "pygments_lexer": "ipython2",
   "version": "2.7.6"
  }
 },
 "nbformat": 4,
 "nbformat_minor": 0
}
