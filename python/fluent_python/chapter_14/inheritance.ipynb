{
 "cells": [
  {
   "cell_type": "code",
   "execution_count": 1,
   "metadata": {
    "collapsed": true,
    "ExecuteTime": {
     "end_time": "2023-07-22T12:17:23.053915Z",
     "start_time": "2023-07-22T12:17:23.049111Z"
    }
   },
   "outputs": [],
   "source": [
    "# Built in inheritance caveat\n",
    "from collections import UserDict\n",
    "\n",
    "class DoppleDict(dict):\n",
    "\n",
    "    def __setitem__(self, key, value):\n",
    "        super().__setitem__(key, [value] * 2)\n",
    "\n",
    "class DoppleDictByCollections(UserDict):\n",
    "\n",
    "    def __setitem__(self, key, value):\n",
    "        super().__setitem__(key, [value] * 2)"
   ]
  },
  {
   "cell_type": "code",
   "execution_count": 2,
   "outputs": [
    {
     "data": {
      "text/plain": "{'one': 1, 'two': [2, 2], 'three': 3}"
     },
     "execution_count": 2,
     "metadata": {},
     "output_type": "execute_result"
    }
   ],
   "source": [
    "dd = DoppleDict(one=1)\n",
    "dd['two'] = 2\n",
    "dd.update(three=3)\n",
    "dd"
   ],
   "metadata": {
    "collapsed": false,
    "ExecuteTime": {
     "end_time": "2023-07-22T12:17:23.060853Z",
     "start_time": "2023-07-22T12:17:23.057992Z"
    }
   }
  },
  {
   "cell_type": "code",
   "execution_count": 3,
   "outputs": [
    {
     "data": {
      "text/plain": "{'one': [1, 1], 'two': [2, 2], 'three': [3, 3]}"
     },
     "execution_count": 3,
     "metadata": {},
     "output_type": "execute_result"
    }
   ],
   "source": [
    "dd = DoppleDictByCollections(one=1)\n",
    "dd['two'] = 2\n",
    "dd.update(three=3)\n",
    "dd"
   ],
   "metadata": {
    "collapsed": false,
    "ExecuteTime": {
     "end_time": "2023-07-22T12:17:23.064407Z",
     "start_time": "2023-07-22T12:17:23.062128Z"
    }
   }
  },
  {
   "cell_type": "code",
   "execution_count": 4,
   "outputs": [],
   "source": [
    "from python.fluent_python.chapter_14.multiple_inheritance import Leaf\n",
    "\n",
    "leaf1 = Leaf()"
   ],
   "metadata": {
    "collapsed": false,
    "ExecuteTime": {
     "end_time": "2023-07-22T12:17:23.069832Z",
     "start_time": "2023-07-22T12:17:23.065520Z"
    }
   }
  },
  {
   "cell_type": "code",
   "execution_count": 5,
   "outputs": [
    {
     "name": "stdout",
     "output_type": "stream",
     "text": [
      "<instance of Leaf>.ping() in Leaf\n",
      "<instance of Leaf>.ping() in A\n",
      "<instance of Leaf>.ping() in B\n",
      "<instance of Leaf>.ping() in Root\n"
     ]
    }
   ],
   "source": [
    "leaf1.ping()"
   ],
   "metadata": {
    "collapsed": false,
    "ExecuteTime": {
     "end_time": "2023-07-22T12:17:23.073550Z",
     "start_time": "2023-07-22T12:17:23.071673Z"
    }
   }
  },
  {
   "cell_type": "code",
   "execution_count": 6,
   "outputs": [
    {
     "name": "stdout",
     "output_type": "stream",
     "text": [
      "<instance of Leaf>.pong() in A\n",
      "<instance of Leaf>.pong() in B\n"
     ]
    }
   ],
   "source": [
    "leaf1.pong()"
   ],
   "metadata": {
    "collapsed": false,
    "ExecuteTime": {
     "end_time": "2023-07-22T12:17:23.097143Z",
     "start_time": "2023-07-22T12:17:23.074121Z"
    }
   }
  },
  {
   "cell_type": "code",
   "execution_count": 7,
   "outputs": [
    {
     "data": {
      "text/plain": "(python.fluent_python.chapter_14.multiple_inheritance.Leaf,\n python.fluent_python.chapter_14.multiple_inheritance.A,\n python.fluent_python.chapter_14.multiple_inheritance.B,\n python.fluent_python.chapter_14.multiple_inheritance.Root,\n object)"
     },
     "execution_count": 7,
     "metadata": {},
     "output_type": "execute_result"
    }
   ],
   "source": [
    "Leaf.__mro__ # implemented in this paper https://www.python.org/download/releases/2.3/mro/"
   ],
   "metadata": {
    "collapsed": false,
    "ExecuteTime": {
     "end_time": "2023-07-22T12:17:23.097591Z",
     "start_time": "2023-07-22T12:17:23.077289Z"
    }
   }
  },
  {
   "cell_type": "code",
   "execution_count": 8,
   "outputs": [],
   "source": [
    "from python.fluent_python.chapter_14.multiple_inheritance import U\n",
    "\n",
    "u = U()"
   ],
   "metadata": {
    "collapsed": false,
    "ExecuteTime": {
     "end_time": "2023-07-22T12:17:23.097638Z",
     "start_time": "2023-07-22T12:17:23.080756Z"
    }
   }
  },
  {
   "cell_type": "code",
   "execution_count": 9,
   "outputs": [
    {
     "name": "stdout",
     "output_type": "stream",
     "text": [
      "<python.fluent_python.chapter_14.multiple_inheritance.U object at 0x10593fe10>.ping() in U\n"
     ]
    },
    {
     "ename": "AttributeError",
     "evalue": "'super' object has no attribute 'ping'",
     "output_type": "error",
     "traceback": [
      "\u001B[0;31m---------------------------------------------------------------------------\u001B[0m",
      "\u001B[0;31mAttributeError\u001B[0m                            Traceback (most recent call last)",
      "Cell \u001B[0;32mIn[9], line 1\u001B[0m\n\u001B[0;32m----> 1\u001B[0m \u001B[43mu\u001B[49m\u001B[38;5;241;43m.\u001B[39;49m\u001B[43mping\u001B[49m\u001B[43m(\u001B[49m\u001B[43m)\u001B[49m\n",
      "File \u001B[0;32m~/PycharmProjects/deepstudy/python/fluent_python/chapter_14/multiple_inheritance.py:41\u001B[0m, in \u001B[0;36mU.ping\u001B[0;34m(self)\u001B[0m\n\u001B[1;32m     39\u001B[0m \u001B[38;5;28;01mdef\u001B[39;00m \u001B[38;5;21mping\u001B[39m(\u001B[38;5;28mself\u001B[39m):\n\u001B[1;32m     40\u001B[0m     \u001B[38;5;28mprint\u001B[39m(\u001B[38;5;124mf\u001B[39m\u001B[38;5;124m'\u001B[39m\u001B[38;5;132;01m{\u001B[39;00m\u001B[38;5;28mself\u001B[39m\u001B[38;5;132;01m}\u001B[39;00m\u001B[38;5;124m.ping() in U\u001B[39m\u001B[38;5;124m'\u001B[39m)\n\u001B[0;32m---> 41\u001B[0m     \u001B[38;5;28;43msuper\u001B[39;49m\u001B[43m(\u001B[49m\u001B[43m)\u001B[49m\u001B[38;5;241;43m.\u001B[39;49m\u001B[43mping\u001B[49m()\n",
      "\u001B[0;31mAttributeError\u001B[0m: 'super' object has no attribute 'ping'"
     ]
    }
   ],
   "source": [
    "u.ping()"
   ],
   "metadata": {
    "collapsed": false,
    "ExecuteTime": {
     "end_time": "2023-07-22T12:17:37.974777Z",
     "start_time": "2023-07-22T12:17:37.874204Z"
    }
   }
  },
  {
   "cell_type": "code",
   "execution_count": 11,
   "outputs": [
    {
     "data": {
      "text/plain": "(python.fluent_python.chapter_14.multiple_inheritance.U, object)"
     },
     "execution_count": 11,
     "metadata": {},
     "output_type": "execute_result"
    }
   ],
   "source": [
    "U.__mro__"
   ],
   "metadata": {
    "collapsed": false,
    "ExecuteTime": {
     "end_time": "2023-07-22T12:17:49.010020Z",
     "start_time": "2023-07-22T12:17:49.007315Z"
    }
   }
  },
  {
   "cell_type": "code",
   "execution_count": 12,
   "outputs": [
    {
     "name": "stdout",
     "output_type": "stream",
     "text": [
      "<instance of LeafUA>.ping() in LeafUA\n",
      "<instance of LeafUA>.ping() in U\n",
      "<instance of LeafUA>.ping() in A\n",
      "<instance of LeafUA>.ping() in Root\n"
     ]
    }
   ],
   "source": [
    "from python.fluent_python.chapter_14.multiple_inheritance import LeafUA\n",
    "\n",
    "leaf2 = LeafUA()\n",
    "leaf2.ping()"
   ],
   "metadata": {
    "collapsed": false,
    "ExecuteTime": {
     "end_time": "2023-07-22T12:18:14.711839Z",
     "start_time": "2023-07-22T12:18:14.706623Z"
    }
   }
  },
  {
   "cell_type": "code",
   "execution_count": 13,
   "outputs": [
    {
     "data": {
      "text/plain": "[python.fluent_python.chapter_14.multiple_inheritance.LeafUA,\n python.fluent_python.chapter_14.multiple_inheritance.U,\n python.fluent_python.chapter_14.multiple_inheritance.A,\n python.fluent_python.chapter_14.multiple_inheritance.Root,\n object]"
     },
     "execution_count": 13,
     "metadata": {},
     "output_type": "execute_result"
    }
   ],
   "source": [
    "LeafUA.mro()"
   ],
   "metadata": {
    "collapsed": false,
    "ExecuteTime": {
     "end_time": "2023-07-22T12:18:28.823616Z",
     "start_time": "2023-07-22T12:18:28.818599Z"
    }
   }
  },
  {
   "cell_type": "code",
   "execution_count": null,
   "outputs": [],
   "source": [
    "\"So perhaps the best advice about inheritance is: avoid it if you can. But often, we don’t have a choice: the frameworks we use impose their own design choices.\""
   ],
   "metadata": {
    "collapsed": false
   }
  },
  {
   "cell_type": "code",
   "execution_count": null,
   "outputs": [],
   "source": [
    "\"It’s also possible that all of the above apply to your situation: you became bored and decided to reinvent the wheel by building your own overengineered and badly designed framework, which is forcing you to code class after class to solve trivial problems. Hopefully you are having fun, or at least getting paid for it.\""
   ],
   "metadata": {
    "collapsed": false
   }
  },
  {
   "cell_type": "code",
   "execution_count": 15,
   "outputs": [
    {
     "data": {
      "text/plain": "'./anki_cards_synth.csv'"
     },
     "execution_count": 15,
     "metadata": {},
     "output_type": "execute_result"
    }
   ],
   "source": [
    "from config import FLUENT_PYTHON_BOOK\n",
    "from anki.generator import generate_anki_cards\n",
    "from anki.formatter import save_cards\n",
    "from anki.config import SYNTH_ANKI_CARDS_SAVEPATH\n",
    "\n",
    "# Generate anki cards\n",
    "anki_cards_synth = generate_anki_cards(filepath=FLUENT_PYTHON_BOOK, start_page=516, end_page=548)\n",
    "save_cards(anki_cards_synth, SYNTH_ANKI_CARDS_SAVEPATH)"
   ],
   "metadata": {
    "collapsed": false,
    "ExecuteTime": {
     "end_time": "2023-07-22T13:02:38.719833Z",
     "start_time": "2023-07-22T13:01:27.116926Z"
    }
   }
  },
  {
   "cell_type": "code",
   "execution_count": null,
   "outputs": [],
   "source": [],
   "metadata": {
    "collapsed": false
   }
  }
 ],
 "metadata": {
  "kernelspec": {
   "display_name": "Python 3",
   "language": "python",
   "name": "python3"
  },
  "language_info": {
   "codemirror_mode": {
    "name": "ipython",
    "version": 2
   },
   "file_extension": ".py",
   "mimetype": "text/x-python",
   "name": "python",
   "nbconvert_exporter": "python",
   "pygments_lexer": "ipython2",
   "version": "2.7.6"
  }
 },
 "nbformat": 4,
 "nbformat_minor": 0
}
